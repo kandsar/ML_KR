{
 "cells": [
  {
   "cell_type": "code",
   "execution_count": 1,
   "metadata": {
    "collapsed": false
   },
   "outputs": [
    {
     "name": "stderr",
     "output_type": "stream",
     "text": [
      "Using TensorFlow backend.\n"
     ]
    }
   ],
   "source": [
    "import numpy\n",
    "from keras.datasets import mnist\n",
    "from keras.models import Sequential\n",
    "from keras.layers import Dense\n",
    "from keras.utils import np_utils\n",
    "from keras import backend as K\n",
    "K.set_image_dim_ordering('th')"
   ]
  },
  {
   "cell_type": "code",
   "execution_count": 2,
   "metadata": {
    "collapsed": true
   },
   "outputs": [],
   "source": [
    "seed =10\n",
    "numpy.random.seed(seed)\n",
    "\n",
    "#reshaping dataset\n",
    "(xtrain,ytrain),(xtest,ytest)= mnist.load_data()\n",
    "xtrain=xtrain.reshape(xtrain.shape[0],784)\n",
    "xtest=xtest.reshape(xtest.shape[0],784)"
   ]
  },
  {
   "cell_type": "code",
   "execution_count": 3,
   "metadata": {
    "collapsed": true
   },
   "outputs": [],
   "source": [
    "#normalize inputs from 0-255 to 0-1\n",
    "xtrain=xtrain/255\n",
    "xtest=xtest/255\n",
    "\n",
    "#one hot encoding\n",
    "ytrain=np_utils.to_categorical(ytrain)\n",
    "ytest=np_utils.to_categorical(ytest)\n",
    "num_classes = ytest.shape[1]"
   ]
  },
  {
   "cell_type": "code",
   "execution_count": 4,
   "metadata": {
    "collapsed": true
   },
   "outputs": [],
   "source": [
    "def create_model():\n",
    "\tmodel=Sequential()\n",
    "\tmodel.add(Dense(200,input_dim=784))\n",
    "\tmodel.add(Dense(100,activation='ReLu'))\n",
    "    model.add(Dense(50,activation='sigmoid'))\n",
    "\tmodel.add(Dense(10,activation='softmax'))\n",
    "\tmodel.compile(loss='categorical_crossentropy', optimizer='adam', metrics=['accuracy'])\n",
    "\treturn model"
   ]
  },
  {
   "cell_type": "code",
   "execution_count": 5,
   "metadata": {
    "collapsed": false
   },
   "outputs": [
    {
     "name": "stdout",
     "output_type": "stream",
     "text": [
      "Train on 60000 samples, validate on 10000 samples\n",
      "Epoch 1/10\n",
      "5s - loss: 0.5387 - acc: 0.8709 - val_loss: 0.2774 - val_acc: 0.9242\n",
      "Epoch 2/10\n",
      "4s - loss: 0.2492 - acc: 0.9312 - val_loss: 0.2225 - val_acc: 0.9379\n",
      "Epoch 3/10\n",
      "3s - loss: 0.2029 - acc: 0.9430 - val_loss: 0.1928 - val_acc: 0.9439\n",
      "Epoch 4/10\n",
      "3s - loss: 0.1741 - acc: 0.9504 - val_loss: 0.1680 - val_acc: 0.9528\n",
      "Epoch 5/10\n",
      "3s - loss: 0.1532 - acc: 0.9565 - val_loss: 0.1571 - val_acc: 0.9540\n",
      "Epoch 6/10\n",
      "3s - loss: 0.1366 - acc: 0.9610 - val_loss: 0.1469 - val_acc: 0.9565\n",
      "Epoch 7/10\n",
      "3s - loss: 0.1234 - acc: 0.9649 - val_loss: 0.1355 - val_acc: 0.9600\n",
      "Epoch 8/10\n",
      "3s - loss: 0.1124 - acc: 0.9679 - val_loss: 0.1277 - val_acc: 0.9623\n",
      "Epoch 9/10\n",
      "3s - loss: 0.1031 - acc: 0.9708 - val_loss: 0.1262 - val_acc: 0.9622\n",
      "Epoch 10/10\n",
      "3s - loss: 0.0946 - acc: 0.9729 - val_loss: 0.1181 - val_acc: 0.9626\n"
     ]
    },
    {
     "data": {
      "text/plain": [
       "<keras.callbacks.History at 0x1362a3470>"
      ]
     },
     "execution_count": 5,
     "metadata": {},
     "output_type": "execute_result"
    }
   ],
   "source": [
    "model=create_model()\n",
    "model.fit(xtrain,ytrain,validation_data=(xtest,ytest), epochs=10,batch_size=200,verbose=2)"
   ]
  },
  {
   "cell_type": "code",
   "execution_count": 7,
   "metadata": {
    "collapsed": false
   },
   "outputs": [
    {
     "name": "stdout",
     "output_type": "stream",
     "text": [
      "Baseline Error: 3.74%\n",
      "[0.11806558797955513, 0.96260000000000001]\n"
     ]
    }
   ],
   "source": [
    "scores = model.evaluate(xtest, ytest, verbose=0)\n",
    "print(\"Baseline Error: %.2f%%\" % (100-scores[1]*100))\n",
    "print(scores)"
   ]
  },
  {
   "cell_type": "code",
   "execution_count": null,
   "metadata": {
    "collapsed": true
   },
   "outputs": [],
   "source": []
  }
 ],
 "metadata": {
  "kernelspec": {
   "display_name": "Python [default]",
   "language": "python",
   "name": "python3"
  },
  "language_info": {
   "codemirror_mode": {
    "name": "ipython",
    "version": 3
   },
   "file_extension": ".py",
   "mimetype": "text/x-python",
   "name": "python",
   "nbconvert_exporter": "python",
   "pygments_lexer": "ipython3",
   "version": "3.5.2"
  }
 },
 "nbformat": 4,
 "nbformat_minor": 2
}
